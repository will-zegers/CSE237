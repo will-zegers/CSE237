{
 "cells": [
  {
   "cell_type": "code",
   "execution_count": 5,
   "metadata": {
    "collapsed": false
   },
   "outputs": [],
   "source": [
    "mnist = {}\n",
    "\n",
    "mnist.path_remote = 'https://s3.amazonaws.com/torch7/data/mnist.t7.tgz'\n",
    "mnist.path_dataset = 'mnist.t7'\n",
    "mnist.path_trainset = paths.concat(mnist.path_dataset, 'train_32x32.t7')\n",
    "mnist.path_testset = paths.concat(mnist.path_dataset, 'test_32x32.t7')\n",
    "\n",
    "if not paths.filep(mnist.path_trainset) or not paths.filep(mnist.path_testset) then\n",
    "  local remote = mnist.path_remote\n",
    "  local tar = paths.basename(remote)\n",
    "  os.execute('wget ' .. remote .. '; ' .. 'tar xvf ' .. tar .. '; rm ' .. tar)\n",
    "end\n",
    "\n",
    "\n",
    "trainset = torch.load(mnist.path_trainset, 'ascii')\n",
    "testset = torch.load(mnist.path_testset, 'ascii')\n",
    "rawTestset = torch.load(mnist.path_testset, 'ascii')"
   ]
  },
  {
   "cell_type": "code",
   "execution_count": 6,
   "metadata": {
    "collapsed": false
   },
   "outputs": [],
   "source": [
    "require 'cunn'\n",
    "\n",
    "setmetatable(trainset, \n",
    "    {__index = function(t, i) \n",
    "                    return {t.data[i], t.labels[i]} \n",
    "                end}\n",
    ");\n",
    "trainset.data = trainset.data:double()\n",
    "testset.data = testset.data:double()\n",
    "rawTestset.data = rawTestset.data:double()\n",
    "\n",
    "function trainset:size() \n",
    "    return self.data:size(1) \n",
    "end"
   ]
  },
  {
   "cell_type": "code",
   "execution_count": 7,
   "metadata": {
    "collapsed": false
   },
   "outputs": [],
   "source": [
    "mean = trainset.data:mean()\n",
    "stdv = trainset.data:std()\n",
    "\n",
    "trainset.data:add(-mean)\n",
    "trainset.data:div(stdv)\n",
    "trainset.data = trainset.data:cuda()\n",
    "trainset.labels = trainset.labels:cuda()\n",
    "\n",
    "testset.data:add(-mean)\n",
    "testset.data:mul(1/stdv)\n",
    "testset.data = testset.data:cuda()\n",
    "testset.labels = trainset.labels:cuda()\n",
    "\n",
    "rawTestset.data = testset.data:cuda()\n",
    "rawTestset.labels = trainset.labels:cuda()"
   ]
  },
  {
   "cell_type": "code",
   "execution_count": 13,
   "metadata": {
    "collapsed": false
   },
   "outputs": [
    {
     "data": {
      "text/plain": [
       "LeNet5\n",
       "nn.Sequential {\n",
       "  [input -> (1) -> (2) -> (3) -> (4) -> (5) -> (6) -> (7) -> (8) -> (9) -> (10) -> (11) -> (12) -> (13) -> output]\n",
       "  (1): nn.SpatialConvolution(1 -> 6, 5x5)\n",
       "  (2): nn.ReLU\n",
       "  (3): nn.SpatialMaxPooling(2x2, 2,2)\n",
       "  (4): nn.SpatialConvolution(6 -> 16, 5x5)\n",
       "  (5): nn.ReLU\n",
       "  (6): nn.SpatialMaxPooling(2x2, 2,2)\n",
       "  (7): nn.View(400)\n",
       "  (8): nn.Linear(400 -> 120)\n",
       "  (9): nn.ReLU\n",
       "  (10): nn.Linear(120 -> 84)\n",
       "  (11): nn.ReLU\n",
       "  (12): nn.Linear(84 -> 10)\n",
       "  (13): nn.LogSoftMax\n",
       "}\t\n"
      ]
     },
     "execution_count": 13,
     "metadata": {},
     "output_type": "execute_result"
    }
   ],
   "source": [
    "import 'nn'\n",
    "\n",
    "-- net = torch.load('model.t7')\n",
    "\n",
    "net = nn.Sequential()\n",
    "net:add(nn.SpatialConvolution(1,6,5,5))\n",
    "net:add(nn.ReLU())\n",
    "net:add(nn.SpatialMaxPooling(2,2,2,2))\n",
    "net:add(nn.SpatialConvolution(6,16,5,5))\n",
    "net:add(nn.ReLU())\n",
    "net:add(nn.SpatialMaxPooling(2,2,2,2))\n",
    "net:add(nn.View(16*5*5))\n",
    "net:add(nn.Linear(16*5*5, 120))\n",
    "net:add(nn.ReLU())\n",
    "net:add(nn.Linear(120,84))\n",
    "net:add(nn.ReLU())\n",
    "net:add(nn.Linear(84,10))\n",
    "net:add(nn.LogSoftMax())\n",
    "\n",
    "net = net:cuda()\n",
    "\n",
    "print('LeNet5\\n' .. net:__tostring())"
   ]
  },
  {
   "cell_type": "code",
   "execution_count": null,
   "metadata": {
    "collapsed": false
   },
   "outputs": [],
   "source": [
    "criterion = nn.ClassNLLCriterion()\n",
    "criterion = criterion:cuda()"
   ]
  },
  {
   "cell_type": "code",
   "execution_count": null,
   "metadata": {
    "collapsed": true
   },
   "outputs": [],
   "source": [
    "trainer = nn.StochasticGradient(net, criterion)\n",
    "trainer.learningRate = 0.001\n",
    "trainer.maxIteration = 5"
   ]
  },
  {
   "cell_type": "code",
   "execution_count": null,
   "metadata": {
    "collapsed": false
   },
   "outputs": [],
   "source": [
    "trainer:train(trainset)"
   ]
  },
  {
   "cell_type": "code",
   "execution_count": null,
   "metadata": {
    "collapsed": false
   },
   "outputs": [],
   "source": [
    "classes = {0, 1, 2, 3, 4, 5, 6, 7, 8, 9}"
   ]
  },
  {
   "cell_type": "code",
   "execution_count": null,
   "metadata": {
    "collapsed": false
   },
   "outputs": [],
   "source": [
    "correct = 0\n",
    "for i=1,testset.data:size(1) do\n",
    "    local groundtruth = testset.labels[i]\n",
    "    local prediction = net:forward(testset.data[i])\n",
    "    local confidences, indices = torch.sort(prediction, true)  -- true means sort in descending order\n",
    "    if groundtruth == indices[1] then\n",
    "        correct = correct + 1\n",
    "    end\n",
    "end"
   ]
  },
  {
   "cell_type": "code",
   "execution_count": null,
   "metadata": {
    "collapsed": false
   },
   "outputs": [],
   "source": [
    "print(correct, 100*correct/testset.data:size(1) .. '%')"
   ]
  },
  {
   "cell_type": "code",
   "execution_count": 12,
   "metadata": {
    "collapsed": false
   },
   "outputs": [
    {
     "data": {
      "image/png": "[encoded data removed]",
      "text/plain": [
       "Console does not support images"
      ]
     },
     "metadata": {
      "image/png": {
       "height": 32,
       "width": 32
      }
     },
     "output_type": "display_data"
    },
    {
     "data": {
      "text/plain": [
       " 1.0416e-08\n",
       " 2.5838e-07\n",
       " 1.0000e+00\n",
       " 5.9992e-07\n",
       " 8.7371e-11\n",
       " 1.0413e-11\n",
       " 1.1487e-12\n",
       " 9.9298e-07\n",
       " 2.1944e-08\n",
       " 2.1698e-12\n",
       "[torch.CudaTensor of size 10]\n",
       "\n"
      ]
     },
     "execution_count": 12,
     "metadata": {},
     "output_type": "execute_result"
    }
   ],
   "source": [
    "s = torch.random() % 10000\n",
    "file = torch.DiskFile(\"pic.png\", \"w\")\n",
    "itorch.image(testset.data[s])\n",
    "\n",
    "inputFile = torch.DiskFile(\"input.dat\", \"w\")\n",
    "for i=1,32 do\n",
    "    for j=1,32 do\n",
    "        inputFile:writeFloat(rawTestset.data[s][1][i][j])\n",
    "    end\n",
    "end\n",
    "inputFile:close()\n",
    "\n",
    "predict = net:forward(testset.data[s])\n",
    "print(torch.exp(predict))\n",
    "outputFile = torch.DiskFile(\"out.gold.dat\", \"w\")\n",
    "for i=1,10 do\n",
    "    outputFile:writeFloat(torch.exp(predict[i]))\n",
    "end\n",
    "outputFile:close()"
   ]
  }
 ],
 "metadata": {
  "kernelspec": {
   "display_name": "iTorch",
   "language": "lua",
   "name": "itorch"
  },
  "language_info": {
   "name": "lua",
   "version": "5.1"
  }
 },
 "nbformat": 4,
 "nbformat_minor": 1
}
